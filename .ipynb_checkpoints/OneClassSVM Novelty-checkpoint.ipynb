{
 "cells": [
  {
   "cell_type": "markdown",
   "metadata": {},
   "source": [
    "### Loading Data"
   ]
  },
  {
   "cell_type": "code",
   "execution_count": 1,
   "metadata": {},
   "outputs": [],
   "source": [
    "import numpy as np\n",
    "import pandas as pd\n",
    "datas = np.load('E_origninal.npy')\n",
    "numero_senseur = np.load('numeroDesCapteur.npy')\n"
   ]
  },
  {
   "cell_type": "markdown",
   "metadata": {},
   "source": [
    "### Imputation by the precedent value "
   ]
  },
  {
   "cell_type": "code",
   "execution_count": 2,
   "metadata": {},
   "outputs": [
    {
     "data": {
      "text/html": [
       "<div>\n",
       "<style scoped>\n",
       "    .dataframe tbody tr th:only-of-type {\n",
       "        vertical-align: middle;\n",
       "    }\n",
       "\n",
       "    .dataframe tbody tr th {\n",
       "        vertical-align: top;\n",
       "    }\n",
       "\n",
       "    .dataframe thead th {\n",
       "        text-align: right;\n",
       "    }\n",
       "</style>\n",
       "<table border=\"1\" class=\"dataframe\">\n",
       "  <thead>\n",
       "    <tr style=\"text-align: right;\">\n",
       "      <th></th>\n",
       "      <th>0</th>\n",
       "      <th>1</th>\n",
       "      <th>2</th>\n",
       "      <th>3</th>\n",
       "      <th>4</th>\n",
       "      <th>5</th>\n",
       "      <th>6</th>\n",
       "      <th>7</th>\n",
       "      <th>8</th>\n",
       "      <th>9</th>\n",
       "      <th>...</th>\n",
       "      <th>33328</th>\n",
       "      <th>33329</th>\n",
       "      <th>33330</th>\n",
       "      <th>33331</th>\n",
       "      <th>33332</th>\n",
       "      <th>33333</th>\n",
       "      <th>33334</th>\n",
       "      <th>33335</th>\n",
       "      <th>33336</th>\n",
       "      <th>33337</th>\n",
       "    </tr>\n",
       "  </thead>\n",
       "  <tbody>\n",
       "    <tr>\n",
       "      <td>158895</td>\n",
       "      <td>77</td>\n",
       "      <td>83</td>\n",
       "      <td>74</td>\n",
       "      <td>72</td>\n",
       "      <td>79</td>\n",
       "      <td>86</td>\n",
       "      <td>91</td>\n",
       "      <td>74</td>\n",
       "      <td>74</td>\n",
       "      <td>75</td>\n",
       "      <td>...</td>\n",
       "      <td>84</td>\n",
       "      <td>84</td>\n",
       "      <td>84</td>\n",
       "      <td>84</td>\n",
       "      <td>65</td>\n",
       "      <td>65</td>\n",
       "      <td>65</td>\n",
       "      <td>65</td>\n",
       "      <td>65</td>\n",
       "      <td>68</td>\n",
       "    </tr>\n",
       "    <tr>\n",
       "      <td>187509</td>\n",
       "      <td>12</td>\n",
       "      <td>12</td>\n",
       "      <td>12</td>\n",
       "      <td>16</td>\n",
       "      <td>16</td>\n",
       "      <td>31</td>\n",
       "      <td>31</td>\n",
       "      <td>31</td>\n",
       "      <td>31</td>\n",
       "      <td>31</td>\n",
       "      <td>...</td>\n",
       "      <td>32</td>\n",
       "      <td>32</td>\n",
       "      <td>32</td>\n",
       "      <td>32</td>\n",
       "      <td>32</td>\n",
       "      <td>32</td>\n",
       "      <td>32</td>\n",
       "      <td>32</td>\n",
       "      <td>32</td>\n",
       "      <td>32</td>\n",
       "    </tr>\n",
       "    <tr>\n",
       "      <td>195041</td>\n",
       "      <td>52</td>\n",
       "      <td>56</td>\n",
       "      <td>55</td>\n",
       "      <td>58</td>\n",
       "      <td>53</td>\n",
       "      <td>52</td>\n",
       "      <td>54</td>\n",
       "      <td>54</td>\n",
       "      <td>52</td>\n",
       "      <td>58</td>\n",
       "      <td>...</td>\n",
       "      <td>46</td>\n",
       "      <td>46</td>\n",
       "      <td>46</td>\n",
       "      <td>46</td>\n",
       "      <td>46</td>\n",
       "      <td>46</td>\n",
       "      <td>46</td>\n",
       "      <td>46</td>\n",
       "      <td>46</td>\n",
       "      <td>46</td>\n",
       "    </tr>\n",
       "    <tr>\n",
       "      <td>195552</td>\n",
       "      <td>0</td>\n",
       "      <td>0</td>\n",
       "      <td>0</td>\n",
       "      <td>0</td>\n",
       "      <td>0</td>\n",
       "      <td>0</td>\n",
       "      <td>0</td>\n",
       "      <td>0</td>\n",
       "      <td>0</td>\n",
       "      <td>13</td>\n",
       "      <td>...</td>\n",
       "      <td>38</td>\n",
       "      <td>38</td>\n",
       "      <td>38</td>\n",
       "      <td>27</td>\n",
       "      <td>27</td>\n",
       "      <td>19</td>\n",
       "      <td>19</td>\n",
       "      <td>19</td>\n",
       "      <td>19</td>\n",
       "      <td>19</td>\n",
       "    </tr>\n",
       "    <tr>\n",
       "      <td>209827</td>\n",
       "      <td>46</td>\n",
       "      <td>47</td>\n",
       "      <td>47</td>\n",
       "      <td>47</td>\n",
       "      <td>50</td>\n",
       "      <td>48</td>\n",
       "      <td>43</td>\n",
       "      <td>46</td>\n",
       "      <td>50</td>\n",
       "      <td>49</td>\n",
       "      <td>...</td>\n",
       "      <td>63</td>\n",
       "      <td>63</td>\n",
       "      <td>63</td>\n",
       "      <td>58</td>\n",
       "      <td>58</td>\n",
       "      <td>56</td>\n",
       "      <td>56</td>\n",
       "      <td>56</td>\n",
       "      <td>56</td>\n",
       "      <td>85</td>\n",
       "    </tr>\n",
       "  </tbody>\n",
       "</table>\n",
       "<p>5 rows × 33338 columns</p>\n",
       "</div>"
      ],
      "text/plain": [
       "        0      1      2      3      4      5      6      7      8      9      \\\n",
       "158895     77     83     74     72     79     86     91     74     74     75   \n",
       "187509     12     12     12     16     16     31     31     31     31     31   \n",
       "195041     52     56     55     58     53     52     54     54     52     58   \n",
       "195552      0      0      0      0      0      0      0      0      0     13   \n",
       "209827     46     47     47     47     50     48     43     46     50     49   \n",
       "\n",
       "        ...  33328  33329  33330  33331  33332  33333  33334  33335  33336  \\\n",
       "158895  ...     84     84     84     84     65     65     65     65     65   \n",
       "187509  ...     32     32     32     32     32     32     32     32     32   \n",
       "195041  ...     46     46     46     46     46     46     46     46     46   \n",
       "195552  ...     38     38     38     27     27     19     19     19     19   \n",
       "209827  ...     63     63     63     58     58     56     56     56     56   \n",
       "\n",
       "        33337  \n",
       "158895     68  \n",
       "187509     32  \n",
       "195041     46  \n",
       "195552     19  \n",
       "209827     85  \n",
       "\n",
       "[5 rows x 33338 columns]"
      ]
     },
     "execution_count": 2,
     "metadata": {},
     "output_type": "execute_result"
    }
   ],
   "source": [
    "#naive imputation by the precedent value\n",
    "def imputation_precedent(data):\n",
    "    m,n = data.shape\n",
    "    for i in range(m):\n",
    "        for j in range(n):\n",
    "            if data[i,j] == -1:\n",
    "                data[i,j] = data[i,j-1]\n",
    "    return None\n",
    "\n",
    "imputation_precedent(datas)\n",
    "\n",
    "datas_pandas = pd.DataFrame(datas)\n",
    "datas_pandas.index = numero_senseur\n",
    "\n",
    "nb_cap = 1 # datas.shape[0]\n",
    "voisin = np.load('tousLesVoisinsDeTouslesPionts.npy',allow_pickle = True)\n",
    "datas_pandas.head()\n",
    "\n"
   ]
  },
  {
   "cell_type": "markdown",
   "metadata": {},
   "source": [
    "### Creating a table of the sensor to modelizse with his neighbor's data "
   ]
  },
  {
   "cell_type": "code",
   "execution_count": 3,
   "metadata": {},
   "outputs": [
    {
     "data": {
      "text/html": [
       "<div>\n",
       "<style scoped>\n",
       "    .dataframe tbody tr th:only-of-type {\n",
       "        vertical-align: middle;\n",
       "    }\n",
       "\n",
       "    .dataframe tbody tr th {\n",
       "        vertical-align: top;\n",
       "    }\n",
       "\n",
       "    .dataframe thead th {\n",
       "        text-align: right;\n",
       "    }\n",
       "</style>\n",
       "<table border=\"1\" class=\"dataframe\">\n",
       "  <thead>\n",
       "    <tr style=\"text-align: right;\">\n",
       "      <th></th>\n",
       "      <th>0</th>\n",
       "      <th>1</th>\n",
       "      <th>2</th>\n",
       "      <th>3</th>\n",
       "      <th>4</th>\n",
       "      <th>5</th>\n",
       "      <th>6</th>\n",
       "      <th>7</th>\n",
       "      <th>8</th>\n",
       "      <th>9</th>\n",
       "      <th>...</th>\n",
       "      <th>33328</th>\n",
       "      <th>33329</th>\n",
       "      <th>33330</th>\n",
       "      <th>33331</th>\n",
       "      <th>33332</th>\n",
       "      <th>33333</th>\n",
       "      <th>33334</th>\n",
       "      <th>33335</th>\n",
       "      <th>33336</th>\n",
       "      <th>33337</th>\n",
       "    </tr>\n",
       "  </thead>\n",
       "  <tbody>\n",
       "    <tr>\n",
       "      <td>0</td>\n",
       "      <td>77</td>\n",
       "      <td>83</td>\n",
       "      <td>74</td>\n",
       "      <td>72</td>\n",
       "      <td>79</td>\n",
       "      <td>86</td>\n",
       "      <td>91</td>\n",
       "      <td>74</td>\n",
       "      <td>74</td>\n",
       "      <td>75</td>\n",
       "      <td>...</td>\n",
       "      <td>84</td>\n",
       "      <td>84</td>\n",
       "      <td>84</td>\n",
       "      <td>84</td>\n",
       "      <td>65</td>\n",
       "      <td>65</td>\n",
       "      <td>65</td>\n",
       "      <td>65</td>\n",
       "      <td>65</td>\n",
       "      <td>68</td>\n",
       "    </tr>\n",
       "    <tr>\n",
       "      <td>1</td>\n",
       "      <td>65</td>\n",
       "      <td>65</td>\n",
       "      <td>70</td>\n",
       "      <td>70</td>\n",
       "      <td>68</td>\n",
       "      <td>66</td>\n",
       "      <td>68</td>\n",
       "      <td>70</td>\n",
       "      <td>70</td>\n",
       "      <td>70</td>\n",
       "      <td>...</td>\n",
       "      <td>41</td>\n",
       "      <td>41</td>\n",
       "      <td>69</td>\n",
       "      <td>69</td>\n",
       "      <td>69</td>\n",
       "      <td>69</td>\n",
       "      <td>69</td>\n",
       "      <td>69</td>\n",
       "      <td>69</td>\n",
       "      <td>81</td>\n",
       "    </tr>\n",
       "    <tr>\n",
       "      <td>2</td>\n",
       "      <td>84</td>\n",
       "      <td>79</td>\n",
       "      <td>79</td>\n",
       "      <td>84</td>\n",
       "      <td>95</td>\n",
       "      <td>87</td>\n",
       "      <td>82</td>\n",
       "      <td>86</td>\n",
       "      <td>91</td>\n",
       "      <td>82</td>\n",
       "      <td>...</td>\n",
       "      <td>57</td>\n",
       "      <td>57</td>\n",
       "      <td>57</td>\n",
       "      <td>57</td>\n",
       "      <td>89</td>\n",
       "      <td>86</td>\n",
       "      <td>86</td>\n",
       "      <td>86</td>\n",
       "      <td>86</td>\n",
       "      <td>91</td>\n",
       "    </tr>\n",
       "    <tr>\n",
       "      <td>3</td>\n",
       "      <td>35</td>\n",
       "      <td>34</td>\n",
       "      <td>33</td>\n",
       "      <td>34</td>\n",
       "      <td>33</td>\n",
       "      <td>34</td>\n",
       "      <td>37</td>\n",
       "      <td>36</td>\n",
       "      <td>36</td>\n",
       "      <td>33</td>\n",
       "      <td>...</td>\n",
       "      <td>33</td>\n",
       "      <td>33</td>\n",
       "      <td>33</td>\n",
       "      <td>33</td>\n",
       "      <td>38</td>\n",
       "      <td>35</td>\n",
       "      <td>35</td>\n",
       "      <td>35</td>\n",
       "      <td>35</td>\n",
       "      <td>35</td>\n",
       "    </tr>\n",
       "    <tr>\n",
       "      <td>4</td>\n",
       "      <td>26</td>\n",
       "      <td>27</td>\n",
       "      <td>29</td>\n",
       "      <td>29</td>\n",
       "      <td>23</td>\n",
       "      <td>33</td>\n",
       "      <td>31</td>\n",
       "      <td>27</td>\n",
       "      <td>29</td>\n",
       "      <td>29</td>\n",
       "      <td>...</td>\n",
       "      <td>33</td>\n",
       "      <td>33</td>\n",
       "      <td>33</td>\n",
       "      <td>33</td>\n",
       "      <td>33</td>\n",
       "      <td>33</td>\n",
       "      <td>33</td>\n",
       "      <td>33</td>\n",
       "      <td>33</td>\n",
       "      <td>33</td>\n",
       "    </tr>\n",
       "    <tr>\n",
       "      <td>5</td>\n",
       "      <td>90</td>\n",
       "      <td>91</td>\n",
       "      <td>90</td>\n",
       "      <td>96</td>\n",
       "      <td>90</td>\n",
       "      <td>90</td>\n",
       "      <td>91</td>\n",
       "      <td>88</td>\n",
       "      <td>91</td>\n",
       "      <td>94</td>\n",
       "      <td>...</td>\n",
       "      <td>82</td>\n",
       "      <td>82</td>\n",
       "      <td>128</td>\n",
       "      <td>82</td>\n",
       "      <td>81</td>\n",
       "      <td>67</td>\n",
       "      <td>67</td>\n",
       "      <td>67</td>\n",
       "      <td>67</td>\n",
       "      <td>75</td>\n",
       "    </tr>\n",
       "  </tbody>\n",
       "</table>\n",
       "<p>6 rows × 33338 columns</p>\n",
       "</div>"
      ],
      "text/plain": [
       "   0      1      2      3      4      5      6      7      8      9      ...  \\\n",
       "0     77     83     74     72     79     86     91     74     74     75  ...   \n",
       "1     65     65     70     70     68     66     68     70     70     70  ...   \n",
       "2     84     79     79     84     95     87     82     86     91     82  ...   \n",
       "3     35     34     33     34     33     34     37     36     36     33  ...   \n",
       "4     26     27     29     29     23     33     31     27     29     29  ...   \n",
       "5     90     91     90     96     90     90     91     88     91     94  ...   \n",
       "\n",
       "   33328  33329  33330  33331  33332  33333  33334  33335  33336  33337  \n",
       "0     84     84     84     84     65     65     65     65     65     68  \n",
       "1     41     41     69     69     69     69     69     69     69     81  \n",
       "2     57     57     57     57     89     86     86     86     86     91  \n",
       "3     33     33     33     33     38     35     35     35     35     35  \n",
       "4     33     33     33     33     33     33     33     33     33     33  \n",
       "5     82     82    128     82     81     67     67     67     67     75  \n",
       "\n",
       "[6 rows x 33338 columns]"
      ]
     },
     "execution_count": 3,
     "metadata": {},
     "output_type": "execute_result"
    }
   ],
   "source": [
    "#creating a table of the sensor to modelizse with his neighbor's data \n",
    "#for i in range(nb_cap):\n",
    "cap = voisin[0]\n",
    "model_cap = pd.DataFrame(columns = np.arange(datas.shape[1]))\n",
    "for ind in range(len(cap)):\n",
    "    model_cap.loc[ind] = datas_pandas.loc[cap[ind]]\n",
    "\n",
    "#numerate neighbor sensor and efface their sensor number\n",
    "model_cap = model_cap.astype(int)\n",
    "\n",
    "model_cap\n"
   ]
  },
  {
   "cell_type": "code",
   "execution_count": 4,
   "metadata": {},
   "outputs": [
    {
     "data": {
      "text/plain": [
       "<Figure size 640x480 with 6 Axes>"
      ]
     },
     "metadata": {},
     "output_type": "display_data"
    },
    {
     "data": {
      "text/plain": [
       "<Figure size 640x480 with 36 Axes>"
      ]
     },
     "metadata": {},
     "output_type": "display_data"
    }
   ],
   "source": [
    "import matplotlib.pyplot as plt\n",
    "from pandas.plotting import scatter_matrix\n",
    "model_capT = model_cap.transpose()\n",
    "model_capT.hist()\n",
    "scatter_matrix(model_capT)\n",
    "plt.show()"
   ]
  },
  {
   "cell_type": "markdown",
   "metadata": {},
   "source": [
    "### Adding random gaussian noise manually to the p% of the data in the model sensor as a trial"
   ]
  },
  {
   "cell_type": "code",
   "execution_count": 5,
   "metadata": {
    "scrolled": true
   },
   "outputs": [
    {
     "name": "stdout",
     "output_type": "stream",
     "text": [
      "[   46    83   119 ... 33148 33287 33302] (1666,)\n",
      "81.05309256704061\n",
      "[0. 0. 0. ... 0. 0. 0.]\n",
      "0        77\n",
      "1        83\n",
      "2        74\n",
      "3        72\n",
      "4        79\n",
      "         ..\n",
      "33333    65\n",
      "33334    65\n",
      "33335    65\n",
      "33336    65\n",
      "33337    68\n",
      "Name: 0, Length: 33338, dtype: int32 (33338,)\n"
     ]
    },
    {
     "data": {
      "text/html": [
       "<div>\n",
       "<style scoped>\n",
       "    .dataframe tbody tr th:only-of-type {\n",
       "        vertical-align: middle;\n",
       "    }\n",
       "\n",
       "    .dataframe tbody tr th {\n",
       "        vertical-align: top;\n",
       "    }\n",
       "\n",
       "    .dataframe thead th {\n",
       "        text-align: right;\n",
       "    }\n",
       "</style>\n",
       "<table border=\"1\" class=\"dataframe\">\n",
       "  <thead>\n",
       "    <tr style=\"text-align: right;\">\n",
       "      <th></th>\n",
       "      <th>0</th>\n",
       "      <th>1</th>\n",
       "      <th>2</th>\n",
       "      <th>3</th>\n",
       "      <th>4</th>\n",
       "      <th>5</th>\n",
       "      <th>6</th>\n",
       "      <th>7</th>\n",
       "      <th>8</th>\n",
       "      <th>9</th>\n",
       "      <th>...</th>\n",
       "      <th>33328</th>\n",
       "      <th>33329</th>\n",
       "      <th>33330</th>\n",
       "      <th>33331</th>\n",
       "      <th>33332</th>\n",
       "      <th>33333</th>\n",
       "      <th>33334</th>\n",
       "      <th>33335</th>\n",
       "      <th>33336</th>\n",
       "      <th>33337</th>\n",
       "    </tr>\n",
       "  </thead>\n",
       "  <tbody>\n",
       "    <tr>\n",
       "      <td>0</td>\n",
       "      <td>77</td>\n",
       "      <td>83</td>\n",
       "      <td>74</td>\n",
       "      <td>72</td>\n",
       "      <td>79</td>\n",
       "      <td>86</td>\n",
       "      <td>91</td>\n",
       "      <td>74</td>\n",
       "      <td>74</td>\n",
       "      <td>75</td>\n",
       "      <td>...</td>\n",
       "      <td>84</td>\n",
       "      <td>84</td>\n",
       "      <td>84</td>\n",
       "      <td>84</td>\n",
       "      <td>65</td>\n",
       "      <td>65</td>\n",
       "      <td>65</td>\n",
       "      <td>65</td>\n",
       "      <td>65</td>\n",
       "      <td>68</td>\n",
       "    </tr>\n",
       "    <tr>\n",
       "      <td>1</td>\n",
       "      <td>65</td>\n",
       "      <td>65</td>\n",
       "      <td>70</td>\n",
       "      <td>70</td>\n",
       "      <td>68</td>\n",
       "      <td>66</td>\n",
       "      <td>68</td>\n",
       "      <td>70</td>\n",
       "      <td>70</td>\n",
       "      <td>70</td>\n",
       "      <td>...</td>\n",
       "      <td>41</td>\n",
       "      <td>41</td>\n",
       "      <td>69</td>\n",
       "      <td>69</td>\n",
       "      <td>69</td>\n",
       "      <td>69</td>\n",
       "      <td>69</td>\n",
       "      <td>69</td>\n",
       "      <td>69</td>\n",
       "      <td>81</td>\n",
       "    </tr>\n",
       "    <tr>\n",
       "      <td>2</td>\n",
       "      <td>84</td>\n",
       "      <td>79</td>\n",
       "      <td>79</td>\n",
       "      <td>84</td>\n",
       "      <td>95</td>\n",
       "      <td>87</td>\n",
       "      <td>82</td>\n",
       "      <td>86</td>\n",
       "      <td>91</td>\n",
       "      <td>82</td>\n",
       "      <td>...</td>\n",
       "      <td>57</td>\n",
       "      <td>57</td>\n",
       "      <td>57</td>\n",
       "      <td>57</td>\n",
       "      <td>89</td>\n",
       "      <td>86</td>\n",
       "      <td>86</td>\n",
       "      <td>86</td>\n",
       "      <td>86</td>\n",
       "      <td>91</td>\n",
       "    </tr>\n",
       "    <tr>\n",
       "      <td>3</td>\n",
       "      <td>35</td>\n",
       "      <td>34</td>\n",
       "      <td>33</td>\n",
       "      <td>34</td>\n",
       "      <td>33</td>\n",
       "      <td>34</td>\n",
       "      <td>37</td>\n",
       "      <td>36</td>\n",
       "      <td>36</td>\n",
       "      <td>33</td>\n",
       "      <td>...</td>\n",
       "      <td>33</td>\n",
       "      <td>33</td>\n",
       "      <td>33</td>\n",
       "      <td>33</td>\n",
       "      <td>38</td>\n",
       "      <td>35</td>\n",
       "      <td>35</td>\n",
       "      <td>35</td>\n",
       "      <td>35</td>\n",
       "      <td>35</td>\n",
       "    </tr>\n",
       "    <tr>\n",
       "      <td>4</td>\n",
       "      <td>26</td>\n",
       "      <td>27</td>\n",
       "      <td>29</td>\n",
       "      <td>29</td>\n",
       "      <td>23</td>\n",
       "      <td>33</td>\n",
       "      <td>31</td>\n",
       "      <td>27</td>\n",
       "      <td>29</td>\n",
       "      <td>29</td>\n",
       "      <td>...</td>\n",
       "      <td>33</td>\n",
       "      <td>33</td>\n",
       "      <td>33</td>\n",
       "      <td>33</td>\n",
       "      <td>33</td>\n",
       "      <td>33</td>\n",
       "      <td>33</td>\n",
       "      <td>33</td>\n",
       "      <td>33</td>\n",
       "      <td>33</td>\n",
       "    </tr>\n",
       "    <tr>\n",
       "      <td>5</td>\n",
       "      <td>90</td>\n",
       "      <td>91</td>\n",
       "      <td>90</td>\n",
       "      <td>96</td>\n",
       "      <td>90</td>\n",
       "      <td>90</td>\n",
       "      <td>91</td>\n",
       "      <td>88</td>\n",
       "      <td>91</td>\n",
       "      <td>94</td>\n",
       "      <td>...</td>\n",
       "      <td>82</td>\n",
       "      <td>82</td>\n",
       "      <td>128</td>\n",
       "      <td>82</td>\n",
       "      <td>81</td>\n",
       "      <td>67</td>\n",
       "      <td>67</td>\n",
       "      <td>67</td>\n",
       "      <td>67</td>\n",
       "      <td>75</td>\n",
       "    </tr>\n",
       "  </tbody>\n",
       "</table>\n",
       "<p>6 rows × 33338 columns</p>\n",
       "</div>"
      ],
      "text/plain": [
       "   0      1      2      3      4      5      6      7      8      9      ...  \\\n",
       "0     77     83     74     72     79     86     91     74     74     75  ...   \n",
       "1     65     65     70     70     68     66     68     70     70     70  ...   \n",
       "2     84     79     79     84     95     87     82     86     91     82  ...   \n",
       "3     35     34     33     34     33     34     37     36     36     33  ...   \n",
       "4     26     27     29     29     23     33     31     27     29     29  ...   \n",
       "5     90     91     90     96     90     90     91     88     91     94  ...   \n",
       "\n",
       "   33328  33329  33330  33331  33332  33333  33334  33335  33336  33337  \n",
       "0     84     84     84     84     65     65     65     65     65     68  \n",
       "1     41     41     69     69     69     69     69     69     69     81  \n",
       "2     57     57     57     57     89     86     86     86     86     91  \n",
       "3     33     33     33     33     38     35     35     35     35     35  \n",
       "4     33     33     33     33     33     33     33     33     33     33  \n",
       "5     82     82    128     82     81     67     67     67     67     75  \n",
       "\n",
       "[6 rows x 33338 columns]"
      ]
     },
     "execution_count": 5,
     "metadata": {},
     "output_type": "execute_result"
    }
   ],
   "source": [
    "#adding gaussian noise manually\n",
    "#sampling of p% of model_capets and creation of label\n",
    "np.random.seed(42)\n",
    "p= 0.05\n",
    "model_sensor = model_cap.iloc[0,:].copy()\n",
    "sample = np.random.choice(range(model_sensor.shape[0]),int(p*model_sensor.shape[0]),replace= False)\n",
    "sample = np.unique(sample)\n",
    "label = np.zeros(model_sensor.shape)\n",
    "print(sample, sample.shape)\n",
    "print(np.mean(model_sensor))\n",
    "#adding gaussien noise to p% of the model_capet, mu mean, sigma ecart-type\n",
    "\n",
    "#mu = 0.5* np.mean(model_sensor)\n",
    "mu = 100\n",
    "#sigma = 0.3*np.mean(model_sensor)\n",
    "sigma = 10\n",
    "\n",
    "for i in range(len(sample)):\n",
    "    label[sample[i]] = 1\n",
    "    model_sensor[sample[i]] += np.random.normal(mu,sigma)\n",
    "\n",
    " # verifacation whether we have p% model_cap\n",
    "print(label)\n",
    "print(model_sensor,model_sensor.shape)\n",
    "\n",
    "#replace sensor data in the original data\n",
    "model_noise = model_cap.copy()\n",
    "model_noise.iloc[0,:] = model_sensor\n",
    "#model_cap\n",
    "model_cap\n",
    "model_noise"
   ]
  },
  {
   "cell_type": "markdown",
   "metadata": {},
   "source": [
    "### Creating new feature in the model"
   ]
  },
  {
   "cell_type": "code",
   "execution_count": 6,
   "metadata": {},
   "outputs": [
    {
     "data": {
      "text/html": [
       "<div>\n",
       "<style scoped>\n",
       "    .dataframe tbody tr th:only-of-type {\n",
       "        vertical-align: middle;\n",
       "    }\n",
       "\n",
       "    .dataframe tbody tr th {\n",
       "        vertical-align: top;\n",
       "    }\n",
       "\n",
       "    .dataframe thead th {\n",
       "        text-align: right;\n",
       "    }\n",
       "</style>\n",
       "<table border=\"1\" class=\"dataframe\">\n",
       "  <thead>\n",
       "    <tr style=\"text-align: right;\">\n",
       "      <th></th>\n",
       "      <th>cap1-cap0</th>\n",
       "      <th>cap2-cap0</th>\n",
       "      <th>cap3-cap0</th>\n",
       "      <th>cap4-cap0</th>\n",
       "      <th>cap5-cap0</th>\n",
       "    </tr>\n",
       "  </thead>\n",
       "  <tbody>\n",
       "    <tr>\n",
       "      <td>0</td>\n",
       "      <td>-12</td>\n",
       "      <td>7</td>\n",
       "      <td>-42</td>\n",
       "      <td>-51</td>\n",
       "      <td>13</td>\n",
       "    </tr>\n",
       "    <tr>\n",
       "      <td>1</td>\n",
       "      <td>-18</td>\n",
       "      <td>-4</td>\n",
       "      <td>-49</td>\n",
       "      <td>-56</td>\n",
       "      <td>8</td>\n",
       "    </tr>\n",
       "    <tr>\n",
       "      <td>2</td>\n",
       "      <td>-4</td>\n",
       "      <td>5</td>\n",
       "      <td>-41</td>\n",
       "      <td>-45</td>\n",
       "      <td>16</td>\n",
       "    </tr>\n",
       "    <tr>\n",
       "      <td>3</td>\n",
       "      <td>-2</td>\n",
       "      <td>12</td>\n",
       "      <td>-38</td>\n",
       "      <td>-43</td>\n",
       "      <td>24</td>\n",
       "    </tr>\n",
       "    <tr>\n",
       "      <td>4</td>\n",
       "      <td>-11</td>\n",
       "      <td>16</td>\n",
       "      <td>-46</td>\n",
       "      <td>-56</td>\n",
       "      <td>11</td>\n",
       "    </tr>\n",
       "    <tr>\n",
       "      <td>...</td>\n",
       "      <td>...</td>\n",
       "      <td>...</td>\n",
       "      <td>...</td>\n",
       "      <td>...</td>\n",
       "      <td>...</td>\n",
       "    </tr>\n",
       "    <tr>\n",
       "      <td>33333</td>\n",
       "      <td>4</td>\n",
       "      <td>21</td>\n",
       "      <td>-30</td>\n",
       "      <td>-32</td>\n",
       "      <td>2</td>\n",
       "    </tr>\n",
       "    <tr>\n",
       "      <td>33334</td>\n",
       "      <td>4</td>\n",
       "      <td>21</td>\n",
       "      <td>-30</td>\n",
       "      <td>-32</td>\n",
       "      <td>2</td>\n",
       "    </tr>\n",
       "    <tr>\n",
       "      <td>33335</td>\n",
       "      <td>4</td>\n",
       "      <td>21</td>\n",
       "      <td>-30</td>\n",
       "      <td>-32</td>\n",
       "      <td>2</td>\n",
       "    </tr>\n",
       "    <tr>\n",
       "      <td>33336</td>\n",
       "      <td>4</td>\n",
       "      <td>21</td>\n",
       "      <td>-30</td>\n",
       "      <td>-32</td>\n",
       "      <td>2</td>\n",
       "    </tr>\n",
       "    <tr>\n",
       "      <td>33337</td>\n",
       "      <td>13</td>\n",
       "      <td>23</td>\n",
       "      <td>-33</td>\n",
       "      <td>-35</td>\n",
       "      <td>7</td>\n",
       "    </tr>\n",
       "  </tbody>\n",
       "</table>\n",
       "<p>33338 rows × 5 columns</p>\n",
       "</div>"
      ],
      "text/plain": [
       "       cap1-cap0  cap2-cap0  cap3-cap0  cap4-cap0  cap5-cap0\n",
       "0            -12          7        -42        -51         13\n",
       "1            -18         -4        -49        -56          8\n",
       "2             -4          5        -41        -45         16\n",
       "3             -2         12        -38        -43         24\n",
       "4            -11         16        -46        -56         11\n",
       "...          ...        ...        ...        ...        ...\n",
       "33333          4         21        -30        -32          2\n",
       "33334          4         21        -30        -32          2\n",
       "33335          4         21        -30        -32          2\n",
       "33336          4         21        -30        -32          2\n",
       "33337         13         23        -33        -35          7\n",
       "\n",
       "[33338 rows x 5 columns]"
      ]
     },
     "execution_count": 6,
     "metadata": {},
     "output_type": "execute_result"
    }
   ],
   "source": [
    "#replace data by difference and difference square\n",
    "model_diff = pd.DataFrame(columns = np.arange(datas.shape[1]))\n",
    "model_noise_diff = pd.DataFrame(columns = np.arange(datas.shape[1]))\n",
    "for ind in range(1,len(cap)):\n",
    "    #model_diff.loc['cap{}-cap0'.format(str(ind))] = np.abs(datas_pandas.loc[cap[ind]] - datas_pandas.iloc[0])\n",
    "    model_diff.loc['cap{}-cap0'.format(str(ind))] = (model_cap.loc[ind] - model_cap.iloc[0])\n",
    "    model_noise_diff.loc['cap{}-cap0'.format(str(ind))] = (model_noise.loc[ind] - model_noise.iloc[0])\n",
    "    #model_diff.loc['cap{}-cap0 square'.format(str(ind))] = (datas_pandas.loc[cap[ind]]\n",
    "                                                                #- datas_pandas.iloc[0])**2\n",
    "\n",
    "\n",
    "model_diff = model_diff.astype(int)\n",
    "model_diff = model_diff.transpose()\n",
    "model_diff\n",
    "model_noise_diff = model_noise_diff.astype(int)\n",
    "model_noise_diff = model_noise_diff.transpose()\n",
    "model_noise_diff"
   ]
  },
  {
   "cell_type": "markdown",
   "metadata": {},
   "source": [
    "model_noise_diff.describe()"
   ]
  },
  {
   "cell_type": "code",
   "execution_count": 7,
   "metadata": {},
   "outputs": [
    {
     "data": {
      "image/png": "[encoded data removed]",
      "text/plain": [
       "<Figure size 432x288 with 6 Axes>"
      ]
     },
     "metadata": {
      "needs_background": "light"
     },
     "output_type": "display_data"
    },
    {
     "data": {
      "image/png": "[encoded data removed]",
      "text/plain": [
       "<Figure size 432x288 with 6 Axes>"
      ]
     },
     "metadata": {
      "needs_background": "light"
     },
     "output_type": "display_data"
    }
   ],
   "source": [
    "model_diff.hist()\n",
    "plt.show()\n",
    "model_noise_diff.hist()\n",
    "plt.show()"
   ]
  },
  {
   "cell_type": "code",
   "execution_count": 8,
   "metadata": {},
   "outputs": [
    {
     "data": {
      "text/plain": [
       "(0, 100)"
      ]
     },
     "execution_count": 8,
     "metadata": {},
     "output_type": "execute_result"
    },
    {
     "data": {
      "image/png": "[encoded data removed]",
      "text/plain": [
       "<Figure size 432x288 with 1 Axes>"
      ]
     },
     "metadata": {
      "needs_background": "light"
     },
     "output_type": "display_data"
    }
   ],
   "source": [
    "fig,ax = plt.subplots()\n",
    "model_cap = model_cap.transpose()\n",
    "plt.plot(model_cap.iloc[:,1])\n",
    "ax.set_xlim(0,100)"
   ]
  },
  {
   "cell_type": "code",
   "execution_count": 9,
   "metadata": {},
   "outputs": [
    {
     "data": {
      "text/plain": [
       "Text(0.5, 0, 'x1-x0')"
      ]
     },
     "execution_count": 9,
     "metadata": {},
     "output_type": "execute_result"
    },
    {
     "data": {
      "image/png": "[encoded data removed]",
      "text/plain": [
       "<Figure size 432x288 with 1 Axes>"
      ]
     },
     "metadata": {
      "needs_background": "light"
     },
     "output_type": "display_data"
    }
   ],
   "source": [
    "fig,ax = plt.subplots()\n",
    "\n",
    "limit = 2000\n",
    "outlier_index = np.array(np.where(label == 1))[0,:limit]\n",
    "\n",
    "X1_samples = model_diff.values[:limit,0:2]\n",
    "X2_samples = model_noise_diff.values[outlier_index,0:2]\n",
    "\n",
    "\n",
    "ax.scatter(X1_samples[:, 0], X1_samples[:,1], marker = 'o',color = 'green', s=40)\n",
    "ax.scatter(X2_samples[:, 0], X2_samples[:,1], marker = '^',color = 'blue', s =40)\n",
    "plt.legend(['Class1 (w1)', 'Class2 (w2)'], loc = 'upper left')\n",
    "plt.title('Feature visualisation')\n",
    "plt.ylabel('x2-x0')\n",
    "plt.xlabel('x1-x0')\n"
   ]
  },
  {
   "cell_type": "markdown",
   "metadata": {},
   "source": [
    "### Visualisation of histogram,covariance matrix and correlation heat map"
   ]
  },
  {
   "cell_type": "markdown",
   "metadata": {},
   "source": [
    "### Creating training set and test set"
   ]
  },
  {
   "cell_type": "code",
   "execution_count": 10,
   "metadata": {},
   "outputs": [
    {
     "name": "stdout",
     "output_type": "stream",
     "text": [
      "(10500, 5) (4500, 5) (1666, 5)\n"
     ]
    }
   ],
   "source": [
    "\n",
    "trainset_perc = 0.7\n",
    "\n",
    "#limiting data to have a smaller dataset to test\n",
    "\n",
    "#time_limit = datas.shape[1]\n",
    "time_limit = 15000\n",
    "\n",
    "X = model_diff.values[:time_limit,:]\n",
    "\n",
    "outlier_index = np.array(np.where(label == 1))\n",
    "X_outliers = model_noise_diff.values[outlier_index,:][0]\n",
    "\n",
    "train_size = int(trainset_perc*time_limit)\n",
    "X_train,X_test = X[:train_size,:],X[train_size:,:]\n",
    "\n",
    "\n",
    "\n",
    "print(X_train.shape,X_test.shape,X_outliers.shape)"
   ]
  },
  {
   "cell_type": "markdown",
   "metadata": {},
   "source": [
    "### One class classification SVM Novelty Detection"
   ]
  },
  {
   "cell_type": "code",
   "execution_count": 27,
   "metadata": {},
   "outputs": [
    {
     "name": "stdout",
     "output_type": "stream",
     "text": [
      "(10500, 5) (4500, 5) (1666, 5)\n",
      "(10500,) (4500,)\n"
     ]
    }
   ],
   "source": [
    "\n",
    "trainset_perc = 0.7\n",
    "\n",
    "#limiting data to have a smaller dataset to test\n",
    "\n",
    "#time_limit = datas.shape[1]\n",
    "time_limit = 15000\n",
    "\n",
    "X = model_diff.values[:time_limit,:]\n",
    "X_noise = model_noise_diff.values[:time_limit,:]\n",
    "Y = label[:time_limit]\n",
    "\n",
    "outlier_index = np.array(np.where(label == 1))\n",
    "X_outliers = model_noise_diff.values[outlier_index,:][0]\n",
    "\n",
    "\n",
    "train_size = int(trainset_perc*time_limit)\n",
    "\n",
    "X_train_SVM,X_test_SVM = X[:train_size,:],X_noise[train_size:,:]\n",
    "Y_train,Y_test = Y[:train_size],Y[train_size:]\n",
    "\n",
    "\n",
    "print(X_train_SVM.shape,X_test_SVM.shape,X_outliers.shape)\n",
    "print(Y_train.shape, Y_test.shape)"
   ]
  },
  {
   "cell_type": "code",
   "execution_count": 33,
   "metadata": {},
   "outputs": [
    {
     "data": {
      "text/plain": [
       "array([], dtype=int64)"
      ]
     },
     "execution_count": 33,
     "metadata": {},
     "output_type": "execute_result"
    }
   ],
   "source": [
    "y_pred_outliers[y_pred_outliers==1]"
   ]
  },
  {
   "cell_type": "code",
   "execution_count": 34,
   "metadata": {},
   "outputs": [
    {
     "name": "stdout",
     "output_type": "stream",
     "text": [
      "Accuracy on train set: 0.679429\n",
      "Accuracy on outliers set: 1.000000\n",
      "Accuracy on test set: 0.3586666666666667\n",
      "              precision    recall  f1-score   support\n",
      "\n",
      "         0.0       1.00      0.32      0.49      4270\n",
      "         1.0       0.07      1.00      0.14       230\n",
      "\n",
      "    accuracy                           0.36      4500\n",
      "   macro avg       0.54      0.66      0.31      4500\n",
      "weighted avg       0.95      0.36      0.47      4500\n",
      "\n"
     ]
    },
    {
     "data": {
      "text/plain": [
       "<matplotlib.legend.Legend at 0x2b195a7b448>"
      ]
     },
     "execution_count": 34,
     "metadata": {},
     "output_type": "execute_result"
    },
    {
     "data": {
      "image/png": "[encoded data removed]",
      "text/plain": [
       "<Figure size 432x288 with 1 Axes>"
      ]
     },
     "metadata": {
      "needs_background": "light"
     },
     "output_type": "display_data"
    }
   ],
   "source": [
    "\n",
    "from sklearn.svm import OneClassSVM\n",
    "from sklearn.metrics import classification_report, accuracy_score\n",
    "from sklearn.metrics import confusion_matrix\n",
    "from sklearn.metrics import roc_curve\n",
    "from sklearn.metrics import auc\n",
    "\n",
    "\n",
    "\n",
    "clf = OneClassSVM(nu = 0.05,kernel = 'rbf',gamma = p).fit(X_train_SVM)\n",
    "\n",
    "y_pred_train = clf.predict(X_train_SVM)\n",
    "y_pred_test = clf.predict(X_test_SVM)\n",
    "y_pred_outliers = clf.predict(X_outliers)\n",
    "\n",
    "n_error_train = y_pred_train[y_pred_train == -1].size/y_pred_train.size\n",
    "n_error_outliers = y_pred_outliers[y_pred_outliers == 1].size/y_pred_outliers.size\n",
    "\n",
    "print('Accuracy on train set: %f' % (1-n_error_train))\n",
    "print('Accuracy on outliers set: %f' % (1-n_error_outliers))\n",
    "\n",
    "\n",
    "# Reshape the prediction values to 0 for valid and 1 for fraudulent\n",
    "y_pred_test[y_pred_test == 1] = 0\n",
    "y_pred_test[y_pred_test == -1] = 1\n",
    "#print(confusion_matrix(Y_test,y_pred_test))\n",
    "\n",
    "print('Accuracy on test set:', accuracy_score(Y_test, y_pred_test))\n",
    "print(classification_report(Y_test, y_pred_test))\n",
    "\n",
    "\n",
    "\n",
    "y_score = -clf.score_samples(X_test_SVM)\n",
    "# Compute fpr, tpr, thresholds and roc auc\n",
    "fpr, tpr, thresholds = roc_curve(y_pred_test, y_score)\n",
    "roc_auc = auc(fpr, tpr)\n",
    "\n",
    "# Plot ROC curve\n",
    "plt.figure()\n",
    "plt.plot(fpr, tpr, label='ROC curve (area = %0.3f)' % roc_auc)\n",
    "plt.plot([0, 1], [0, 1], 'k--')  # random predictions curve\n",
    "#plt.xlim([0.0, 1.0])\n",
    "#plt.ylim([0.0, 1.0])\n",
    "plt.xlabel('False Positive Rate or (1 - Specifity)')\n",
    "plt.ylabel('True Positive Rate or (Sensitivity)')\n",
    "plt.title('ROC SVM kernel rbf')\n",
    "plt.legend(loc=\"lower right\")\n",
    "\n",
    "                    "
   ]
  },
  {
   "cell_type": "markdown",
   "metadata": {},
   "source": [
    "### Isolation Forest"
   ]
  },
  {
   "cell_type": "code",
   "execution_count": 22,
   "metadata": {},
   "outputs": [
    {
     "name": "stdout",
     "output_type": "stream",
     "text": [
      "(10500, 5) (4500, 5) (1666, 5)\n",
      "(10500,) (4500,)\n"
     ]
    }
   ],
   "source": [
    "#for isolation forest, training set should not be polluated by noise\n",
    "trainset_perc = 0.7\n",
    "\n",
    "#limiting data to have a smaller dataset to test\n",
    "\n",
    "#time_limit = datas.shape[1]\n",
    "time_limit = 15000\n",
    "\n",
    "X = model_diff.values[:time_limit,:]\n",
    "X_noise = model_noise_diff.values[:time_limit,:]\n",
    "Y = label[:time_limit]\n",
    "\n",
    "outlier_index = np.array(np.where(label == 1))\n",
    "X_outliers = model_noise_diff.values[outlier_index,:][0]\n",
    "\n",
    "train_size = int(trainset_perc*time_limit)\n",
    "\n",
    "X_train,X_test = X[:train_size,:],X_noise[train_size:,:]\n",
    "Y_train,Y_test = Y[:train_size],Y[train_size:]\n",
    "\n",
    "\n",
    "print(X_train.shape,X_test.shape,X_outliers.shape)\n",
    "print(Y_train.shape, Y_test.shape)"
   ]
  },
  {
   "cell_type": "code",
   "execution_count": 25,
   "metadata": {},
   "outputs": [
    {
     "name": "stderr",
     "output_type": "stream",
     "text": [
      "D:\\Anaconda3\\envs\\tensorflow\\lib\\site-packages\\sklearn\\ensemble\\iforest.py:237: FutureWarning: default contamination parameter 0.1 will change in version 0.22 to \"auto\". This will change the predict method behavior.\n",
      "  FutureWarning)\n",
      "D:\\Anaconda3\\envs\\tensorflow\\lib\\site-packages\\sklearn\\ensemble\\iforest.py:247: FutureWarning: behaviour=\"old\" is deprecated and will be removed in version 0.22. Please use behaviour=\"new\", which makes the decision_function change to match other anomaly detection algorithm API.\n",
      "  FutureWarning)\n",
      "D:\\Anaconda3\\envs\\tensorflow\\lib\\site-packages\\sklearn\\ensemble\\iforest.py:415: DeprecationWarning: threshold_ attribute is deprecated in 0.20 and will be removed in 0.22.\n",
      "  \" be removed in 0.22.\", DeprecationWarning)\n",
      "D:\\Anaconda3\\envs\\tensorflow\\lib\\site-packages\\sklearn\\ensemble\\iforest.py:415: DeprecationWarning: threshold_ attribute is deprecated in 0.20 and will be removed in 0.22.\n",
      "  \" be removed in 0.22.\", DeprecationWarning)\n",
      "D:\\Anaconda3\\envs\\tensorflow\\lib\\site-packages\\sklearn\\ensemble\\iforest.py:415: DeprecationWarning: threshold_ attribute is deprecated in 0.20 and will be removed in 0.22.\n",
      "  \" be removed in 0.22.\", DeprecationWarning)\n"
     ]
    },
    {
     "name": "stdout",
     "output_type": "stream",
     "text": [
      "Accuracy on train set: 0.900000\n",
      "Accuracy on outliers set: 1.000000\n",
      "[[3842  428]\n",
      " [   0  230]]\n",
      "0.9048888888888889\n",
      "              precision    recall  f1-score   support\n",
      "\n",
      "         0.0       1.00      0.90      0.95      4270\n",
      "         1.0       0.35      1.00      0.52       230\n",
      "\n",
      "    accuracy                           0.90      4500\n",
      "   macro avg       0.67      0.95      0.73      4500\n",
      "weighted avg       0.97      0.90      0.93      4500\n",
      "\n"
     ]
    },
    {
     "data": {
      "text/plain": [
       "<matplotlib.legend.Legend at 0x2b195854b48>"
      ]
     },
     "execution_count": 25,
     "metadata": {},
     "output_type": "execute_result"
    },
    {
     "data": {
      "image/png": "[encoded data removed]",
      "text/plain": [
       "<Figure size 432x288 with 1 Axes>"
      ]
     },
     "metadata": {
      "needs_background": "light"
     },
     "output_type": "display_data"
    }
   ],
   "source": [
    "from sklearn.ensemble import IsolationForest\n",
    "from sklearn.metrics import classification_report, accuracy_score\n",
    "from sklearn.metrics import confusion_matrix\n",
    "from sklearn.metrics import roc_curve\n",
    "from sklearn.metrics import auc\n",
    "\n",
    "clf = IsolationForest(random_state = 42)\n",
    "clf.fit(X_train)\n",
    "\n",
    "\n",
    "y_pred_train = clf.predict(X_train)\n",
    "y_pred_test = clf.predict(X_test)\n",
    "y_pred_outliers = clf.predict(X_outliers)\n",
    "\n",
    "n_error_train = y_pred_train[y_pred_train == -1].size/y_pred_train.size\n",
    "n_error_outliers = y_pred_outliers[y_pred_outliers == 1].size/y_pred_outliers.size\n",
    "\n",
    "print('Accuracy on train set: %f' % (1-n_error_train))\n",
    "print('Accuracy on outliers set: %f' % (1-n_error_outliers))\n",
    "\n",
    "# Reshape the prediction values to 0 for valid and 1 for fraudulent\n",
    "y_pred_test[y_pred_test == 1] = 0\n",
    "y_pred_test[y_pred_test == -1] = 1\n",
    "print(confusion_matrix(Y_test,y_pred_test))\n",
    "print(accuracy_score(Y_test, y_pred_test ))\n",
    "print(classification_report(Y_test, y_pred_test ))\n",
    "\n",
    "\n",
    "\n",
    "y_score = -clf.score_samples(X_test)\n",
    "# Compute fpr, tpr, thresholds and roc auc\n",
    "fpr, tpr, thresholds = roc_curve(Y_test, y_score)\n",
    "roc_auc = auc(fpr, tpr)\n",
    "\n",
    "# Plot ROC curve\n",
    "plt.figure()\n",
    "plt.plot(fpr, tpr, label='ROC curve (area = %0.3f)' % roc_auc)\n",
    "plt.plot([0, 1], [0, 1], 'k--')  # random predictions curve\n",
    "#plt.xlim([0.0, 1.0])\n",
    "#plt.ylim([0.0, 1.0])\n",
    "plt.xlabel('False Positive Rate or (1 - Specifity)')\n",
    "plt.ylabel('True Positive Rate or (Sensitivity)')\n",
    "plt.title('ROC SVM kernel rbf')\n",
    "plt.legend(loc=\"lower right\")\n"
   ]
  },
  {
   "cell_type": "code",
   "execution_count": 36,
   "metadata": {},
   "outputs": [
    {
     "data": {
      "text/plain": [
       "array([-1, -1, -1, ..., -1, -1, -1], dtype=int64)"
      ]
     },
     "execution_count": 36,
     "metadata": {},
     "output_type": "execute_result"
    }
   ],
   "source": [
    "y_pred_outliers"
   ]
  },
  {
   "cell_type": "markdown",
   "metadata": {},
   "source": [
    "### Plot of ROC curve"
   ]
  }
 ],
 "metadata": {
  "kernelspec": {
   "display_name": "Python 3",
   "language": "python",
   "name": "python3"
  },
  "language_info": {
   "codemirror_mode": {
    "name": "ipython",
    "version": 3
   },
   "file_extension": ".py",
   "mimetype": "text/x-python",
   "name": "python",
   "nbconvert_exporter": "python",
   "pygments_lexer": "ipython3",
   "version": "3.7.4"
  }
 },
 "nbformat": 4,
 "nbformat_minor": 2
}
